{
 "cells": [
  {
   "cell_type": "code",
   "execution_count": 10,
   "id": "24340c41",
   "metadata": {
    "ExecuteTime": {
     "end_time": "2021-11-18T22:09:36.247746Z",
     "start_time": "2021-11-18T22:09:36.243579Z"
    }
   },
   "outputs": [],
   "source": [
    "import numpy as np\n",
    "import matplotlib.pyplot as plt\n",
    "%matplotlib widget"
   ]
  },
  {
   "cell_type": "code",
   "execution_count": 11,
   "id": "f3608f9a",
   "metadata": {
    "ExecuteTime": {
     "end_time": "2021-11-18T22:09:36.423122Z",
     "start_time": "2021-11-18T22:09:36.417918Z"
    }
   },
   "outputs": [],
   "source": [
    "fileName = 'athena-brio-and-wu-output.tab'\n",
    "rawData = np.loadtxt(fileName, skiprows=2)"
   ]
  },
  {
   "cell_type": "code",
   "execution_count": 15,
   "id": "0e550cac",
   "metadata": {
    "ExecuteTime": {
     "end_time": "2021-11-18T22:25:55.941590Z",
     "start_time": "2021-11-18T22:25:55.936053Z"
    }
   },
   "outputs": [],
   "source": [
    "cell  = rawData[:,0]\n",
    "rho   = rawData[:,2]\n",
    "press = rawData[:,3]\n",
    "Vx    = rawData[:,4]\n",
    "Vy    = rawData[:,5]\n",
    "Vz    = rawData[:,6]\n",
    "Bxcc  = rawData[:,7]\n",
    "Bycc  = rawData[:,8]\n",
    "Bzcc  = rawData[:,9]\n",
    "\n",
    "Bxfc  = np.zeros(Bxcc.size)\n",
    "Byfc  = np.zeros(Bxcc.size)\n",
    "Bzfc  = np.zeros(Bxcc.size)\n",
    "\n",
    "for i in range(Bxcc.size-1):\n",
    "    Bxfc[i] = 0.5 * (Bxcc[i] + Bxcc[i+1])\n",
    "    Byfc[i] = 0.5 * (Bycc[i] + Bycc[i+1])\n",
    "    Bzfc[i] = 0.5 * (Bzcc[i] + Bzcc[i+1])"
   ]
  },
  {
   "cell_type": "code",
   "execution_count": 16,
   "id": "caa52ddb",
   "metadata": {
    "ExecuteTime": {
     "end_time": "2021-11-18T22:25:56.276443Z",
     "start_time": "2021-11-18T22:25:56.271853Z"
    }
   },
   "outputs": [],
   "source": [
    "plt.figure(1)\n",
    "plt.scatter(cell, rho)\n",
    "plt.show()"
   ]
  },
  {
   "cell_type": "code",
   "execution_count": 19,
   "id": "cc69ef07",
   "metadata": {
    "ExecuteTime": {
     "end_time": "2021-11-18T22:26:23.378166Z",
     "start_time": "2021-11-18T22:26:23.370169Z"
    }
   },
   "outputs": [
    {
     "name": "stdout",
     "output_type": "stream",
     "text": [
      "\n",
      "leftOfLeftRare  Data:\n",
      "Density  =  0.999994\n",
      "Pressure =  0.999989\n",
      "VelX    =  9.86685e-06\n",
      "VelY    =  -2.7927e-06\n",
      "VelZ    =  0.0\n",
      "MagX    =  0.75\n",
      "MagY    =  0.999978\n",
      "MagZ    =  0.0\n",
      "\n",
      "rightOfLeftRare  Data:\n",
      "Density  =  0.676869\n",
      "Pressure =  0.458164\n",
      "VelX    =  0.635683\n",
      "VelY    =  -0.233374\n",
      "VelZ    =  0.0\n",
      "MagX    =  0.75\n",
      "MagY    =  0.5861240000000001\n",
      "MagZ    =  0.0\n",
      "\n",
      "centerOfCompound  Data:\n",
      "Density  =  0.751405\n",
      "Pressure =  0.605409\n",
      "VelX    =  0.530928\n",
      "VelY    =  -1.41361\n",
      "VelZ    =  0.0\n",
      "MagX    =  0.75\n",
      "MagY    =  -0.43275600000000003\n",
      "MagZ    =  0.0\n",
      "\n",
      "leftOfContact  Data:\n",
      "Density  =  0.688224\n",
      "Pressure =  0.517515\n",
      "VelX    =  0.60126\n",
      "VelY    =  -1.58533\n",
      "VelZ    =  0.0\n",
      "MagX    =  0.75\n",
      "MagY    =  -0.5338265\n",
      "MagZ    =  0.0\n",
      "\n",
      "rightOfContact  Data:\n",
      "Density  =  0.234097\n",
      "Pressure =  0.518182\n",
      "VelX    =  0.606312\n",
      "VelY    =  -1.58517\n",
      "VelZ    =  0.0\n",
      "MagX    =  0.75\n",
      "MagY    =  -0.5338555\n",
      "MagZ    =  0.0\n",
      "\n",
      "rightOfSlowShock  Data:\n",
      "Density  =  0.117306\n",
      "Pressure =  0.0880737\n",
      "VelX    =  -0.230337\n",
      "VelY    =  -0.160016\n",
      "VelZ    =  0.0\n",
      "MagX    =  0.75\n",
      "MagY    =  -0.906401\n",
      "MagZ    =  0.0\n",
      "\n",
      "rightOfRightRare  Data:\n",
      "Density  =  0.125\n",
      "Pressure =  0.0999997\n",
      "VelX    =  -4.99788e-06\n",
      "VelY    =  -3.30643e-06\n",
      "VelZ    =  0.0\n",
      "MagX    =  0.75\n",
      "MagY    =  -0.9999985\n",
      "MagZ    =  0.0\n"
     ]
    }
   ],
   "source": [
    "leftOfLeftRare   = 75\n",
    "rightOfLeftRare  = 115\n",
    "centerOfCompound = 122\n",
    "leftOfContact    = 133\n",
    "rightOfContact   = 155\n",
    "rightOfSlowShock = 185\n",
    "rightOfRightRare = 232\n",
    "\n",
    "def printData(index, name):\n",
    "    print()\n",
    "    print(name, ' Data:')\n",
    "    print('Density  = ', rho[index])\n",
    "    print('Pressure = ', press[index])\n",
    "    print('VelX    = ', Vx[index])\n",
    "    print('VelY    = ', Vy[index])\n",
    "    print('VelZ    = ', Vz[index])\n",
    "    print('MagX    = ', Bxfc[index])\n",
    "    print('MagY    = ', Byfc[index])\n",
    "    print('MagZ    = ', Bzfc[index])\n",
    "    \n",
    "    \n",
    "printData(leftOfLeftRare, 'leftOfLeftRare')  \n",
    "printData(rightOfLeftRare, 'rightOfLeftRare')  \n",
    "printData(centerOfCompound, 'centerOfCompound') \n",
    "printData(leftOfContact, 'leftOfContact')    \n",
    "printData(rightOfContact, 'rightOfContact')   \n",
    "printData(rightOfSlowShock, 'rightOfSlowShock') \n",
    "printData(rightOfRightRare, 'rightOfRightRare')"
   ]
  },
  {
   "cell_type": "code",
   "execution_count": null,
   "id": "7c337cc8",
   "metadata": {},
   "outputs": [],
   "source": []
  }
 ],
 "metadata": {
  "kernelspec": {
   "display_name": "Python 3 (ipykernel)",
   "language": "python",
   "name": "python3"
  },
  "language_info": {
   "codemirror_mode": {
    "name": "ipython",
    "version": 3
   },
   "file_extension": ".py",
   "mimetype": "text/x-python",
   "name": "python",
   "nbconvert_exporter": "python",
   "pygments_lexer": "ipython3",
   "version": "3.8.12"
  }
 },
 "nbformat": 4,
 "nbformat_minor": 5
}

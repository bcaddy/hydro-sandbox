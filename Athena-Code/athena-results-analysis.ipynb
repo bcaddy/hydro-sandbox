{
 "cells": [
  {
   "cell_type": "code",
   "execution_count": 1,
   "id": "24340c41",
   "metadata": {
    "ExecuteTime": {
     "end_time": "2021-11-18T22:09:36.247746Z",
     "start_time": "2021-11-18T22:09:36.243579Z"
    }
   },
   "outputs": [],
   "source": [
    "\n",
    "import numpy as np\n",
    "import pandas as pd\n",
    "import matplotlib.pyplot as plt\n",
    "\n",
    "pd.set_option('display.max_columns', 12)\n",
    "pd.set_option('display.expand_frame_repr', False)\n",
    "%matplotlib widget"
   ]
  },
  {
   "cell_type": "code",
   "execution_count": 33,
   "id": "0e550cac",
   "metadata": {
    "ExecuteTime": {
     "end_time": "2021-11-18T22:25:55.941590Z",
     "start_time": "2021-11-18T22:25:55.936053Z"
    }
   },
   "outputs": [],
   "source": [
    "maxLoc = 511\n",
    "\n",
    "def loadAndPlot(name, plotRho=True, plotPressure=True, plotVx=True, plotVy=True, plotVz=True, plotBx=True, plotBy=True, plotBz=True):\n",
    "    # Load Data\n",
    "    fileName = 'athena++-results/' + name\n",
    "    rawData  = np.loadtxt(fileName, skiprows=2)\n",
    "    \n",
    "    cellNumber      = rawData[:,0].astype('int')\n",
    "    rho             = rawData[:,2]\n",
    "    press           = rawData[:,3]\n",
    "    Vx              = rawData[:,4]\n",
    "    Vy              = rawData[:,5]\n",
    "    Vz              = rawData[:,6]\n",
    "    BxCellCentered  = rawData[:,7]\n",
    "    ByCellCentered  = rawData[:,8]\n",
    "    BzCellCentered  = rawData[:,9]\n",
    "\n",
    "    BxFaceCentered  = np.zeros(BxCellCentered.size)\n",
    "    ByFaceCentered  = np.zeros(BxCellCentered.size)\n",
    "    BzFaceCentered  = np.zeros(BxCellCentered.size)\n",
    "\n",
    "    for i in range(BxCellCentered.size-1):\n",
    "        BxFaceCentered[i] = 0.5 * (BxCellCentered[i] + BxCellCentered[i+1])\n",
    "        ByFaceCentered[i] = 0.5 * (ByCellCentered[i] + ByCellCentered[i+1])\n",
    "        BzFaceCentered[i] = 0.5 * (BzCellCentered[i] + BzCellCentered[i+1])\n",
    "        \n",
    "    # Plotting\n",
    "    plotFig = plt.figure(name)\n",
    "    plotFig.clear()\n",
    "    plt.plot(cellNumber[:-1], rho[:-1],            linestyle='-', color='tab:green',  label='Density')  if plotRho      else None\n",
    "    plt.plot(cellNumber[:-1], press[:-1],          linestyle='-', color='tab:pink',   label='Pressure') if plotPressure else None\n",
    "    plt.plot(cellNumber[:-1], Vx[:-1],             linestyle='-', color='tab:olive',  label='Vx')       if plotVx       else None\n",
    "    plt.plot(cellNumber[:-1], Vy[:-1],             linestyle='-', color='tab:red',    label='Vy')       if plotVy       else None\n",
    "    plt.plot(cellNumber[:-1], Vz[:-1],             linestyle='-', color='tab:orange', label='Vz')       if plotVz       else None\n",
    "    plt.plot(cellNumber[:-1], BxFaceCentered[:-1], linestyle='-', color='tab:blue',   label='Bx')       if plotBx       else None\n",
    "    plt.plot(cellNumber[:-1], ByFaceCentered[:-1], linestyle='-', color='tab:purple', label='By')       if plotBy       else None\n",
    "    plt.plot(cellNumber[:-1], BzFaceCentered[:-1], linestyle='-', color='tab:cyan',   label='Bz')       if plotBz       else None\n",
    "    \n",
    "    plt.xlabel('Cell Number')\n",
    "    plt.ylabel('Value')\n",
    "    \n",
    "    plt.grid()\n",
    "    plt.legend()\n",
    "    plt.show()\n",
    "    \n",
    "    frame = pd.DataFrame({'cellNumber':cellNumber,\n",
    "                          'Density':rho,\n",
    "                          'Pressure':press,\n",
    "                          'Vx':Vx,\n",
    "                          'Vy':Vy,\n",
    "                          'Vz':Vz,\n",
    "                          'Bx':BxFaceCentered,\n",
    "                          'By':ByFaceCentered,\n",
    "                          'Bz':BzFaceCentered})\n",
    "    frame.set_index('cellNumber')\n",
    "    return frame\n",
    "    \n",
    "    \n",
    "def printData(nameLocationList, data):\n",
    "    '''\n",
    "    This function prints out pretty results for all the locations given. Each\n",
    "    element in the list is a pair, the first is the location and the second\n",
    "    element is the name of that location. Note that this function doesn't sort\n",
    "    them and so if you want them sorted then you must sort them yourself\n",
    "    '''\n",
    "    \n",
    "    prettyTable = pd.DataFrame(columns = ['cellNumber', 'Density', 'Pressure', 'Vx', 'Vy', 'Vz', 'Bx', 'By', 'Bz'])\n",
    "    for pair in nameLocationList:\n",
    "        prettyTable.loc[pair[1]] = [pair[0],\n",
    "                                    data.loc[(pair[0],'Density')],\n",
    "                                    data.loc[(pair[0],'Pressure')],\n",
    "                                    data.loc[(pair[0],'Vx')],\n",
    "                                    data.loc[(pair[0],'Vy')],\n",
    "                                    data.loc[(pair[0],'Vz')],\n",
    "                                    data.loc[(pair[0],'Bx')],\n",
    "                                    data.loc[(pair[0],'By')],\n",
    "                                    data.loc[(pair[0],'Bz')]]\n",
    "    # End loop\n",
    "    # Print results\n",
    "    print(prettyTable)"
   ]
  },
  {
   "cell_type": "code",
   "execution_count": null,
   "id": "5d78488c",
   "metadata": {},
   "outputs": [],
   "source": [
    "# Brio & Wu Shock Tube\n",
    "bwData = loadAndPlot('Brio-Wu-out.tab', plotVz=False, plotBz=False, plotBx=False)\n",
    "\n",
    "# | Waves, left to right  | Location, Left Side | Location, Right Side |\n",
    "# |-----------------------|---------------------|----------------------|\n",
    "# | Fast rarefaction      | 166                 | 217                  |\n",
    "# | Compound wave         | 240                 | 251                  |\n",
    "# | Compound wave Peak    | 243                 | n/a                  |\n",
    "# | Contact discontinuity | 281                 | 292                  |\n",
    "# | Slow shock            | 330                 | 333                  |\n",
    "# | Fast rarefaction      | 420                 | 448                  |\n",
    "\n",
    "printData([(166, 'leftFastRareLeftSide'),\n",
    "           (217, 'leftFastRareRightSide'),\n",
    "           (240, 'compoundLeftSide'),\n",
    "           (243, 'compoundPeak'),\n",
    "           (251, 'compoundRightSide'),\n",
    "           (281, 'contactLeftSide'),\n",
    "           (292, 'contactRightSide'),\n",
    "           (330, 'slowShockLeftSide'),\n",
    "           (333, 'slowShockRightSide'),\n",
    "           (420, 'rightFastRareLeftSide'),\n",
    "           (448, 'rightFastRareRightSide')], bwData)"
   ]
  },
  {
   "cell_type": "code",
   "execution_count": 24,
   "id": "4507ff46",
   "metadata": {},
   "outputs": [
    {
     "data": {
      "application/vnd.jupyter.widget-view+json": {
       "model_id": "551459ea295642cdb899fc09c830af2c",
       "version_major": 2,
       "version_minor": 0
      },
      "text/html": [
       "\n",
       "            <div style=\"display: inline-block;\">\n",
       "                <div class=\"jupyter-widgets widget-label\" style=\"text-align: center;\">\n",
       "                    Dai-Woodward-out.tab\n",
       "                </div>\n",
       "                <img src='data:image/png;base64,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' width=640.0/>\n",
       "            </div>\n",
       "        "
      ],
      "text/plain": [
       "Canvas(toolbar=Toolbar(toolitems=[('Home', 'Reset original view', 'home', 'home'), ('Back', 'Back to previous …"
      ]
     },
     "metadata": {},
     "output_type": "display_data"
    }
   ],
   "source": [
    "dwData = loadAndPlot('Dai-Woodward-out.tab', plotBx=False)\n",
    "\n",
    "# | Waves, left to right  | Location, Left Side | Location, Right Side |\n",
    "# |-----------------------|---------------------|----------------------|\n",
    "# | Fast Shock            |                  |                   |\n",
    "# | Rotation Wave         |                  |                   |\n",
    "# | Slow Shock            |                  |                   |\n",
    "# | Contact Discontinuity |                  |                   |\n",
    "# | Slow Shock            |                  |                   |\n",
    "# | Rotation Wave         |                  |                   |\n",
    "# | Fast Shock            |                  |                   |\n",
    "\n",
    "printData([(1, 'leftFastShockLeftSide'),\n",
    "           (1, 'leftFastShockRightSide'),\n",
    "           (1, 'leftRotationLeftSide'),\n",
    "           (1, 'leftRotationRightSide'),\n",
    "           (1, 'leftSlowShockLeftSide'),\n",
    "           (1, 'leftSlowShockRightSide'),\n",
    "           (1, 'contactLeftSide'),\n",
    "           (1, 'contactRightSide'),\n",
    "           (1, 'rightSlowShockLeftSide'),\n",
    "           (1, 'rightSlowShockRightSide'),\n",
    "           (1, 'rightRotationLeftSide'),\n",
    "           (1, 'rightRotationRightSide'),\n",
    "           (1, 'rightFastShockLeftSide'),\n",
    "           (1, 'rightFastShockRightSide'),], bwData)"
   ]
  },
  {
   "cell_type": "code",
   "execution_count": null,
   "id": "40d4cb55",
   "metadata": {},
   "outputs": [],
   "source": [
    "rjData = loadAndPlot('Ryu-Jones-out.tab', plotBx=False)"
   ]
  },
  {
   "cell_type": "code",
   "execution_count": null,
   "id": "414b085b",
   "metadata": {},
   "outputs": [],
   "source": [
    "efrData = loadAndPlot('efr-out.tab', plotVy=False, plotVz=False, plotBx=False, plotBz=False)"
   ]
  },
  {
   "cell_type": "code",
   "execution_count": null,
   "id": "cc69ef07",
   "metadata": {
    "ExecuteTime": {
     "end_time": "2021-11-18T22:26:23.378166Z",
     "start_time": "2021-11-18T22:26:23.370169Z"
    }
   },
   "outputs": [],
   "source": [
    "# leftOfLeftRare   = 75\n",
    "# rightOfLeftRare  = 115\n",
    "# centerOfCompound = 122\n",
    "# leftOfContact    = 133\n",
    "# rightOfContact   = 155\n",
    "# rightOfSlowShock = 185\n",
    "# rightOfRightRare = 232\n",
    "\n",
    "# def printData(index, name):\n",
    "#     print()\n",
    "#     print(name, ' Data:')\n",
    "#     print('Density  = ', rho[index])\n",
    "#     print('Pressure = ', press[index])\n",
    "#     print('VelX    = ', Vx[index])\n",
    "#     print('VelY    = ', Vy[index])\n",
    "#     print('VelZ    = ', Vz[index])\n",
    "#     print('MagX    = ', BxFaceCentered[index])\n",
    "#     print('MagY    = ', ByFaceCentered[index])\n",
    "#     print('MagZ    = ', BzFaceCentered[index])\n",
    "    \n",
    "    \n",
    "# printData(leftOfLeftRare, 'leftOfLeftRare')  \n",
    "# printData(rightOfLeftRare, 'rightOfLeftRare')  \n",
    "# printData(centerOfCompound, 'centerOfCompound') \n",
    "# printData(leftOfContact, 'leftOfContact')    \n",
    "# printData(rightOfContact, 'rightOfContact')   \n",
    "# printData(rightOfSlowShock, 'rightOfSlowShock') \n",
    "# printData(rightOfRightRare, 'rightOfRightRare')"
   ]
  },
  {
   "cell_type": "code",
   "execution_count": null,
   "id": "7c337cc8",
   "metadata": {},
   "outputs": [],
   "source": []
  },
  {
   "cell_type": "code",
   "execution_count": null,
   "id": "413ff680",
   "metadata": {},
   "outputs": [],
   "source": []
  }
 ],
 "metadata": {
  "kernelspec": {
   "display_name": "Python 3 (ipykernel)",
   "language": "python",
   "name": "python3"
  },
  "language_info": {
   "codemirror_mode": {
    "name": "ipython",
    "version": 3
   },
   "file_extension": ".py",
   "mimetype": "text/x-python",
   "name": "python",
   "nbconvert_exporter": "python",
   "pygments_lexer": "ipython3",
   "version": "3.8.12"
  }
 },
 "nbformat": 4,
 "nbformat_minor": 5
}
